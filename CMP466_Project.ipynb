{
 "cells": [
  {
   "cell_type": "code",
   "execution_count": 1,
   "metadata": {
    "tags": []
   },
   "outputs": [],
   "source": [
    "import pandas as pd\n",
    "df = pd.read_csv('Diabetes.csv')"
   ]
  },
  {
   "cell_type": "code",
   "execution_count": 2,
   "metadata": {
    "tags": []
   },
   "outputs": [
    {
     "name": "stdout",
     "output_type": "stream",
     "text": [
      "(70692, 22)\n"
     ]
    }
   ],
   "source": [
    "print(df.shape)"
   ]
  },
  {
   "cell_type": "code",
   "execution_count": 3,
   "metadata": {
    "tags": []
   },
   "outputs": [
    {
     "data": {
      "text/html": [
       "<div>\n",
       "<style scoped>\n",
       "    .dataframe tbody tr th:only-of-type {\n",
       "        vertical-align: middle;\n",
       "    }\n",
       "\n",
       "    .dataframe tbody tr th {\n",
       "        vertical-align: top;\n",
       "    }\n",
       "\n",
       "    .dataframe thead th {\n",
       "        text-align: right;\n",
       "    }\n",
       "</style>\n",
       "<table border=\"1\" class=\"dataframe\">\n",
       "  <thead>\n",
       "    <tr style=\"text-align: right;\">\n",
       "      <th></th>\n",
       "      <th>Diabetes_binary</th>\n",
       "      <th>HighBP</th>\n",
       "      <th>HighChol</th>\n",
       "      <th>CholCheck</th>\n",
       "      <th>BMI</th>\n",
       "      <th>Smoker</th>\n",
       "      <th>Stroke</th>\n",
       "      <th>HeartDiseaseorAttack</th>\n",
       "      <th>PhysActivity</th>\n",
       "      <th>Fruits</th>\n",
       "      <th>...</th>\n",
       "      <th>AnyHealthcare</th>\n",
       "      <th>NoDocbcCost</th>\n",
       "      <th>GenHlth</th>\n",
       "      <th>MentHlth</th>\n",
       "      <th>PhysHlth</th>\n",
       "      <th>DiffWalk</th>\n",
       "      <th>Sex</th>\n",
       "      <th>Age</th>\n",
       "      <th>Education</th>\n",
       "      <th>Income</th>\n",
       "    </tr>\n",
       "  </thead>\n",
       "  <tbody>\n",
       "    <tr>\n",
       "      <th>count</th>\n",
       "      <td>70692.000000</td>\n",
       "      <td>70692.000000</td>\n",
       "      <td>70692.000000</td>\n",
       "      <td>70692.000000</td>\n",
       "      <td>70692.000000</td>\n",
       "      <td>70692.000000</td>\n",
       "      <td>70692.000000</td>\n",
       "      <td>70692.000000</td>\n",
       "      <td>70692.000000</td>\n",
       "      <td>70692.000000</td>\n",
       "      <td>...</td>\n",
       "      <td>70692.000000</td>\n",
       "      <td>70692.000000</td>\n",
       "      <td>70692.000000</td>\n",
       "      <td>70692.000000</td>\n",
       "      <td>70692.000000</td>\n",
       "      <td>70692.000000</td>\n",
       "      <td>70692.000000</td>\n",
       "      <td>70692.000000</td>\n",
       "      <td>70692.000000</td>\n",
       "      <td>70692.000000</td>\n",
       "    </tr>\n",
       "    <tr>\n",
       "      <th>mean</th>\n",
       "      <td>0.500000</td>\n",
       "      <td>0.563458</td>\n",
       "      <td>0.525703</td>\n",
       "      <td>0.975259</td>\n",
       "      <td>29.856985</td>\n",
       "      <td>0.475273</td>\n",
       "      <td>0.062171</td>\n",
       "      <td>0.147810</td>\n",
       "      <td>0.703036</td>\n",
       "      <td>0.611795</td>\n",
       "      <td>...</td>\n",
       "      <td>0.954960</td>\n",
       "      <td>0.093914</td>\n",
       "      <td>2.837082</td>\n",
       "      <td>3.752037</td>\n",
       "      <td>5.810417</td>\n",
       "      <td>0.252730</td>\n",
       "      <td>0.456997</td>\n",
       "      <td>8.584055</td>\n",
       "      <td>4.920953</td>\n",
       "      <td>5.698311</td>\n",
       "    </tr>\n",
       "    <tr>\n",
       "      <th>std</th>\n",
       "      <td>0.500004</td>\n",
       "      <td>0.495960</td>\n",
       "      <td>0.499342</td>\n",
       "      <td>0.155336</td>\n",
       "      <td>7.113954</td>\n",
       "      <td>0.499392</td>\n",
       "      <td>0.241468</td>\n",
       "      <td>0.354914</td>\n",
       "      <td>0.456924</td>\n",
       "      <td>0.487345</td>\n",
       "      <td>...</td>\n",
       "      <td>0.207394</td>\n",
       "      <td>0.291712</td>\n",
       "      <td>1.113565</td>\n",
       "      <td>8.155627</td>\n",
       "      <td>10.062261</td>\n",
       "      <td>0.434581</td>\n",
       "      <td>0.498151</td>\n",
       "      <td>2.852153</td>\n",
       "      <td>1.029081</td>\n",
       "      <td>2.175196</td>\n",
       "    </tr>\n",
       "    <tr>\n",
       "      <th>min</th>\n",
       "      <td>0.000000</td>\n",
       "      <td>0.000000</td>\n",
       "      <td>0.000000</td>\n",
       "      <td>0.000000</td>\n",
       "      <td>12.000000</td>\n",
       "      <td>0.000000</td>\n",
       "      <td>0.000000</td>\n",
       "      <td>0.000000</td>\n",
       "      <td>0.000000</td>\n",
       "      <td>0.000000</td>\n",
       "      <td>...</td>\n",
       "      <td>0.000000</td>\n",
       "      <td>0.000000</td>\n",
       "      <td>1.000000</td>\n",
       "      <td>0.000000</td>\n",
       "      <td>0.000000</td>\n",
       "      <td>0.000000</td>\n",
       "      <td>0.000000</td>\n",
       "      <td>1.000000</td>\n",
       "      <td>1.000000</td>\n",
       "      <td>1.000000</td>\n",
       "    </tr>\n",
       "    <tr>\n",
       "      <th>25%</th>\n",
       "      <td>0.000000</td>\n",
       "      <td>0.000000</td>\n",
       "      <td>0.000000</td>\n",
       "      <td>1.000000</td>\n",
       "      <td>25.000000</td>\n",
       "      <td>0.000000</td>\n",
       "      <td>0.000000</td>\n",
       "      <td>0.000000</td>\n",
       "      <td>0.000000</td>\n",
       "      <td>0.000000</td>\n",
       "      <td>...</td>\n",
       "      <td>1.000000</td>\n",
       "      <td>0.000000</td>\n",
       "      <td>2.000000</td>\n",
       "      <td>0.000000</td>\n",
       "      <td>0.000000</td>\n",
       "      <td>0.000000</td>\n",
       "      <td>0.000000</td>\n",
       "      <td>7.000000</td>\n",
       "      <td>4.000000</td>\n",
       "      <td>4.000000</td>\n",
       "    </tr>\n",
       "    <tr>\n",
       "      <th>50%</th>\n",
       "      <td>0.500000</td>\n",
       "      <td>1.000000</td>\n",
       "      <td>1.000000</td>\n",
       "      <td>1.000000</td>\n",
       "      <td>29.000000</td>\n",
       "      <td>0.000000</td>\n",
       "      <td>0.000000</td>\n",
       "      <td>0.000000</td>\n",
       "      <td>1.000000</td>\n",
       "      <td>1.000000</td>\n",
       "      <td>...</td>\n",
       "      <td>1.000000</td>\n",
       "      <td>0.000000</td>\n",
       "      <td>3.000000</td>\n",
       "      <td>0.000000</td>\n",
       "      <td>0.000000</td>\n",
       "      <td>0.000000</td>\n",
       "      <td>0.000000</td>\n",
       "      <td>9.000000</td>\n",
       "      <td>5.000000</td>\n",
       "      <td>6.000000</td>\n",
       "    </tr>\n",
       "    <tr>\n",
       "      <th>75%</th>\n",
       "      <td>1.000000</td>\n",
       "      <td>1.000000</td>\n",
       "      <td>1.000000</td>\n",
       "      <td>1.000000</td>\n",
       "      <td>33.000000</td>\n",
       "      <td>1.000000</td>\n",
       "      <td>0.000000</td>\n",
       "      <td>0.000000</td>\n",
       "      <td>1.000000</td>\n",
       "      <td>1.000000</td>\n",
       "      <td>...</td>\n",
       "      <td>1.000000</td>\n",
       "      <td>0.000000</td>\n",
       "      <td>4.000000</td>\n",
       "      <td>2.000000</td>\n",
       "      <td>6.000000</td>\n",
       "      <td>1.000000</td>\n",
       "      <td>1.000000</td>\n",
       "      <td>11.000000</td>\n",
       "      <td>6.000000</td>\n",
       "      <td>8.000000</td>\n",
       "    </tr>\n",
       "    <tr>\n",
       "      <th>max</th>\n",
       "      <td>1.000000</td>\n",
       "      <td>1.000000</td>\n",
       "      <td>1.000000</td>\n",
       "      <td>1.000000</td>\n",
       "      <td>98.000000</td>\n",
       "      <td>1.000000</td>\n",
       "      <td>1.000000</td>\n",
       "      <td>1.000000</td>\n",
       "      <td>1.000000</td>\n",
       "      <td>1.000000</td>\n",
       "      <td>...</td>\n",
       "      <td>1.000000</td>\n",
       "      <td>1.000000</td>\n",
       "      <td>5.000000</td>\n",
       "      <td>30.000000</td>\n",
       "      <td>30.000000</td>\n",
       "      <td>1.000000</td>\n",
       "      <td>1.000000</td>\n",
       "      <td>13.000000</td>\n",
       "      <td>6.000000</td>\n",
       "      <td>8.000000</td>\n",
       "    </tr>\n",
       "  </tbody>\n",
       "</table>\n",
       "<p>8 rows × 22 columns</p>\n",
       "</div>"
      ],
      "text/plain": [
       "       Diabetes_binary        HighBP      HighChol     CholCheck  \\\n",
       "count     70692.000000  70692.000000  70692.000000  70692.000000   \n",
       "mean          0.500000      0.563458      0.525703      0.975259   \n",
       "std           0.500004      0.495960      0.499342      0.155336   \n",
       "min           0.000000      0.000000      0.000000      0.000000   \n",
       "25%           0.000000      0.000000      0.000000      1.000000   \n",
       "50%           0.500000      1.000000      1.000000      1.000000   \n",
       "75%           1.000000      1.000000      1.000000      1.000000   \n",
       "max           1.000000      1.000000      1.000000      1.000000   \n",
       "\n",
       "                BMI        Smoker        Stroke  HeartDiseaseorAttack  \\\n",
       "count  70692.000000  70692.000000  70692.000000          70692.000000   \n",
       "mean      29.856985      0.475273      0.062171              0.147810   \n",
       "std        7.113954      0.499392      0.241468              0.354914   \n",
       "min       12.000000      0.000000      0.000000              0.000000   \n",
       "25%       25.000000      0.000000      0.000000              0.000000   \n",
       "50%       29.000000      0.000000      0.000000              0.000000   \n",
       "75%       33.000000      1.000000      0.000000              0.000000   \n",
       "max       98.000000      1.000000      1.000000              1.000000   \n",
       "\n",
       "       PhysActivity        Fruits  ...  AnyHealthcare   NoDocbcCost  \\\n",
       "count  70692.000000  70692.000000  ...   70692.000000  70692.000000   \n",
       "mean       0.703036      0.611795  ...       0.954960      0.093914   \n",
       "std        0.456924      0.487345  ...       0.207394      0.291712   \n",
       "min        0.000000      0.000000  ...       0.000000      0.000000   \n",
       "25%        0.000000      0.000000  ...       1.000000      0.000000   \n",
       "50%        1.000000      1.000000  ...       1.000000      0.000000   \n",
       "75%        1.000000      1.000000  ...       1.000000      0.000000   \n",
       "max        1.000000      1.000000  ...       1.000000      1.000000   \n",
       "\n",
       "            GenHlth      MentHlth      PhysHlth      DiffWalk           Sex  \\\n",
       "count  70692.000000  70692.000000  70692.000000  70692.000000  70692.000000   \n",
       "mean       2.837082      3.752037      5.810417      0.252730      0.456997   \n",
       "std        1.113565      8.155627     10.062261      0.434581      0.498151   \n",
       "min        1.000000      0.000000      0.000000      0.000000      0.000000   \n",
       "25%        2.000000      0.000000      0.000000      0.000000      0.000000   \n",
       "50%        3.000000      0.000000      0.000000      0.000000      0.000000   \n",
       "75%        4.000000      2.000000      6.000000      1.000000      1.000000   \n",
       "max        5.000000     30.000000     30.000000      1.000000      1.000000   \n",
       "\n",
       "                Age     Education        Income  \n",
       "count  70692.000000  70692.000000  70692.000000  \n",
       "mean       8.584055      4.920953      5.698311  \n",
       "std        2.852153      1.029081      2.175196  \n",
       "min        1.000000      1.000000      1.000000  \n",
       "25%        7.000000      4.000000      4.000000  \n",
       "50%        9.000000      5.000000      6.000000  \n",
       "75%       11.000000      6.000000      8.000000  \n",
       "max       13.000000      6.000000      8.000000  \n",
       "\n",
       "[8 rows x 22 columns]"
      ]
     },
     "execution_count": 3,
     "metadata": {},
     "output_type": "execute_result"
    }
   ],
   "source": [
    "df.describe()"
   ]
  },
  {
   "cell_type": "code",
   "execution_count": 4,
   "metadata": {
    "tags": []
   },
   "outputs": [
    {
     "data": {
      "text/html": [
       "<div>\n",
       "<style scoped>\n",
       "    .dataframe tbody tr th:only-of-type {\n",
       "        vertical-align: middle;\n",
       "    }\n",
       "\n",
       "    .dataframe tbody tr th {\n",
       "        vertical-align: top;\n",
       "    }\n",
       "\n",
       "    .dataframe thead th {\n",
       "        text-align: right;\n",
       "    }\n",
       "</style>\n",
       "<table border=\"1\" class=\"dataframe\">\n",
       "  <thead>\n",
       "    <tr style=\"text-align: right;\">\n",
       "      <th></th>\n",
       "      <th>Diabetes_binary</th>\n",
       "      <th>HighBP</th>\n",
       "      <th>HighChol</th>\n",
       "      <th>CholCheck</th>\n",
       "      <th>BMI</th>\n",
       "      <th>Smoker</th>\n",
       "      <th>Stroke</th>\n",
       "      <th>HeartDiseaseorAttack</th>\n",
       "      <th>PhysActivity</th>\n",
       "      <th>Fruits</th>\n",
       "      <th>...</th>\n",
       "      <th>AnyHealthcare</th>\n",
       "      <th>NoDocbcCost</th>\n",
       "      <th>GenHlth</th>\n",
       "      <th>MentHlth</th>\n",
       "      <th>PhysHlth</th>\n",
       "      <th>DiffWalk</th>\n",
       "      <th>Sex</th>\n",
       "      <th>Age</th>\n",
       "      <th>Education</th>\n",
       "      <th>Income</th>\n",
       "    </tr>\n",
       "  </thead>\n",
       "  <tbody>\n",
       "    <tr>\n",
       "      <th>0</th>\n",
       "      <td>0.0</td>\n",
       "      <td>1.0</td>\n",
       "      <td>0.0</td>\n",
       "      <td>1.0</td>\n",
       "      <td>26.0</td>\n",
       "      <td>0.0</td>\n",
       "      <td>0.0</td>\n",
       "      <td>0.0</td>\n",
       "      <td>1.0</td>\n",
       "      <td>0.0</td>\n",
       "      <td>...</td>\n",
       "      <td>1.0</td>\n",
       "      <td>0.0</td>\n",
       "      <td>3.0</td>\n",
       "      <td>5.0</td>\n",
       "      <td>30.0</td>\n",
       "      <td>0.0</td>\n",
       "      <td>1.0</td>\n",
       "      <td>4.0</td>\n",
       "      <td>6.0</td>\n",
       "      <td>8.0</td>\n",
       "    </tr>\n",
       "    <tr>\n",
       "      <th>1</th>\n",
       "      <td>0.0</td>\n",
       "      <td>1.0</td>\n",
       "      <td>1.0</td>\n",
       "      <td>1.0</td>\n",
       "      <td>26.0</td>\n",
       "      <td>1.0</td>\n",
       "      <td>1.0</td>\n",
       "      <td>0.0</td>\n",
       "      <td>0.0</td>\n",
       "      <td>1.0</td>\n",
       "      <td>...</td>\n",
       "      <td>1.0</td>\n",
       "      <td>0.0</td>\n",
       "      <td>3.0</td>\n",
       "      <td>0.0</td>\n",
       "      <td>0.0</td>\n",
       "      <td>0.0</td>\n",
       "      <td>1.0</td>\n",
       "      <td>12.0</td>\n",
       "      <td>6.0</td>\n",
       "      <td>8.0</td>\n",
       "    </tr>\n",
       "    <tr>\n",
       "      <th>2</th>\n",
       "      <td>0.0</td>\n",
       "      <td>0.0</td>\n",
       "      <td>0.0</td>\n",
       "      <td>1.0</td>\n",
       "      <td>26.0</td>\n",
       "      <td>0.0</td>\n",
       "      <td>0.0</td>\n",
       "      <td>0.0</td>\n",
       "      <td>1.0</td>\n",
       "      <td>1.0</td>\n",
       "      <td>...</td>\n",
       "      <td>1.0</td>\n",
       "      <td>0.0</td>\n",
       "      <td>1.0</td>\n",
       "      <td>0.0</td>\n",
       "      <td>10.0</td>\n",
       "      <td>0.0</td>\n",
       "      <td>1.0</td>\n",
       "      <td>13.0</td>\n",
       "      <td>6.0</td>\n",
       "      <td>8.0</td>\n",
       "    </tr>\n",
       "    <tr>\n",
       "      <th>3</th>\n",
       "      <td>0.0</td>\n",
       "      <td>1.0</td>\n",
       "      <td>1.0</td>\n",
       "      <td>1.0</td>\n",
       "      <td>28.0</td>\n",
       "      <td>1.0</td>\n",
       "      <td>0.0</td>\n",
       "      <td>0.0</td>\n",
       "      <td>1.0</td>\n",
       "      <td>1.0</td>\n",
       "      <td>...</td>\n",
       "      <td>1.0</td>\n",
       "      <td>0.0</td>\n",
       "      <td>3.0</td>\n",
       "      <td>0.0</td>\n",
       "      <td>3.0</td>\n",
       "      <td>0.0</td>\n",
       "      <td>1.0</td>\n",
       "      <td>11.0</td>\n",
       "      <td>6.0</td>\n",
       "      <td>8.0</td>\n",
       "    </tr>\n",
       "    <tr>\n",
       "      <th>4</th>\n",
       "      <td>0.0</td>\n",
       "      <td>0.0</td>\n",
       "      <td>0.0</td>\n",
       "      <td>1.0</td>\n",
       "      <td>29.0</td>\n",
       "      <td>1.0</td>\n",
       "      <td>0.0</td>\n",
       "      <td>0.0</td>\n",
       "      <td>1.0</td>\n",
       "      <td>1.0</td>\n",
       "      <td>...</td>\n",
       "      <td>1.0</td>\n",
       "      <td>0.0</td>\n",
       "      <td>2.0</td>\n",
       "      <td>0.0</td>\n",
       "      <td>0.0</td>\n",
       "      <td>0.0</td>\n",
       "      <td>0.0</td>\n",
       "      <td>8.0</td>\n",
       "      <td>5.0</td>\n",
       "      <td>8.0</td>\n",
       "    </tr>\n",
       "  </tbody>\n",
       "</table>\n",
       "<p>5 rows × 22 columns</p>\n",
       "</div>"
      ],
      "text/plain": [
       "   Diabetes_binary  HighBP  HighChol  CholCheck   BMI  Smoker  Stroke  \\\n",
       "0              0.0     1.0       0.0        1.0  26.0     0.0     0.0   \n",
       "1              0.0     1.0       1.0        1.0  26.0     1.0     1.0   \n",
       "2              0.0     0.0       0.0        1.0  26.0     0.0     0.0   \n",
       "3              0.0     1.0       1.0        1.0  28.0     1.0     0.0   \n",
       "4              0.0     0.0       0.0        1.0  29.0     1.0     0.0   \n",
       "\n",
       "   HeartDiseaseorAttack  PhysActivity  Fruits  ...  AnyHealthcare  \\\n",
       "0                   0.0           1.0     0.0  ...            1.0   \n",
       "1                   0.0           0.0     1.0  ...            1.0   \n",
       "2                   0.0           1.0     1.0  ...            1.0   \n",
       "3                   0.0           1.0     1.0  ...            1.0   \n",
       "4                   0.0           1.0     1.0  ...            1.0   \n",
       "\n",
       "   NoDocbcCost  GenHlth  MentHlth  PhysHlth  DiffWalk  Sex   Age  Education  \\\n",
       "0          0.0      3.0       5.0      30.0       0.0  1.0   4.0        6.0   \n",
       "1          0.0      3.0       0.0       0.0       0.0  1.0  12.0        6.0   \n",
       "2          0.0      1.0       0.0      10.0       0.0  1.0  13.0        6.0   \n",
       "3          0.0      3.0       0.0       3.0       0.0  1.0  11.0        6.0   \n",
       "4          0.0      2.0       0.0       0.0       0.0  0.0   8.0        5.0   \n",
       "\n",
       "   Income  \n",
       "0     8.0  \n",
       "1     8.0  \n",
       "2     8.0  \n",
       "3     8.0  \n",
       "4     8.0  \n",
       "\n",
       "[5 rows x 22 columns]"
      ]
     },
     "execution_count": 4,
     "metadata": {},
     "output_type": "execute_result"
    }
   ],
   "source": [
    "df.head()"
   ]
  },
  {
   "cell_type": "code",
   "execution_count": 5,
   "metadata": {
    "tags": []
   },
   "outputs": [
    {
     "data": {
      "text/plain": [
       "Diabetes_binary          2\n",
       "HighBP                   2\n",
       "HighChol                 2\n",
       "CholCheck                2\n",
       "BMI                     80\n",
       "Smoker                   2\n",
       "Stroke                   2\n",
       "HeartDiseaseorAttack     2\n",
       "PhysActivity             2\n",
       "Fruits                   2\n",
       "Veggies                  2\n",
       "HvyAlcoholConsump        2\n",
       "AnyHealthcare            2\n",
       "NoDocbcCost              2\n",
       "GenHlth                  5\n",
       "MentHlth                31\n",
       "PhysHlth                31\n",
       "DiffWalk                 2\n",
       "Sex                      2\n",
       "Age                     13\n",
       "Education                6\n",
       "Income                   8\n",
       "dtype: int64"
      ]
     },
     "execution_count": 5,
     "metadata": {},
     "output_type": "execute_result"
    }
   ],
   "source": [
    "df.nunique()"
   ]
  },
  {
   "cell_type": "code",
   "execution_count": 6,
   "metadata": {
    "tags": []
   },
   "outputs": [
    {
     "data": {
      "text/plain": [
       "Diabetes_binary         0\n",
       "HighBP                  0\n",
       "HighChol                0\n",
       "CholCheck               0\n",
       "BMI                     0\n",
       "Smoker                  0\n",
       "Stroke                  0\n",
       "HeartDiseaseorAttack    0\n",
       "PhysActivity            0\n",
       "Fruits                  0\n",
       "Veggies                 0\n",
       "HvyAlcoholConsump       0\n",
       "AnyHealthcare           0\n",
       "NoDocbcCost             0\n",
       "GenHlth                 0\n",
       "MentHlth                0\n",
       "PhysHlth                0\n",
       "DiffWalk                0\n",
       "Sex                     0\n",
       "Age                     0\n",
       "Education               0\n",
       "Income                  0\n",
       "dtype: int64"
      ]
     },
     "execution_count": 6,
     "metadata": {},
     "output_type": "execute_result"
    }
   ],
   "source": [
    "df.isnull().sum()"
   ]
  },
  {
   "cell_type": "code",
   "execution_count": 7,
   "metadata": {
    "tags": []
   },
   "outputs": [
    {
     "data": {
      "text/plain": [
       "array([[ 1.,  0.,  1., ...,  4.,  6.,  8.],\n",
       "       [ 1.,  1.,  1., ..., 12.,  6.,  8.],\n",
       "       [ 0.,  0.,  1., ..., 13.,  6.,  8.],\n",
       "       ...,\n",
       "       [ 1.,  1.,  1., ..., 13.,  6.,  4.],\n",
       "       [ 1.,  1.,  1., ..., 11.,  2.,  4.],\n",
       "       [ 1.,  1.,  1., ...,  9.,  6.,  2.]])"
      ]
     },
     "execution_count": 7,
     "metadata": {},
     "output_type": "execute_result"
    }
   ],
   "source": [
    "y = df['Diabetes_binary'].to_numpy()\n",
    "X = df.drop(columns=['Diabetes_binary']).to_numpy()\n",
    "\n",
    "X"
   ]
  },
  {
   "cell_type": "code",
   "execution_count": 8,
   "metadata": {
    "tags": []
   },
   "outputs": [
    {
     "data": {
      "text/plain": [
       "array([0., 0., 0., ..., 1., 1., 1.])"
      ]
     },
     "execution_count": 8,
     "metadata": {},
     "output_type": "execute_result"
    }
   ],
   "source": [
    "y"
   ]
  },
  {
   "cell_type": "code",
   "execution_count": 12,
   "metadata": {
    "tags": []
   },
   "outputs": [
    {
     "data": {
      "text/plain": [
       "array([[1.        , 0.        , 1.        , ..., 0.25      , 1.        ,\n",
       "        1.        ],\n",
       "       [1.        , 1.        , 1.        , ..., 0.91666667, 1.        ,\n",
       "        1.        ],\n",
       "       [0.        , 0.        , 1.        , ..., 1.        , 1.        ,\n",
       "        1.        ],\n",
       "       ...,\n",
       "       [1.        , 1.        , 1.        , ..., 1.        , 1.        ,\n",
       "        0.42857143],\n",
       "       [1.        , 1.        , 1.        , ..., 0.83333333, 0.2       ,\n",
       "        0.42857143],\n",
       "       [1.        , 1.        , 1.        , ..., 0.66666667, 1.        ,\n",
       "        0.14285714]])"
      ]
     },
     "execution_count": 12,
     "metadata": {},
     "output_type": "execute_result"
    }
   ],
   "source": [
    "#MinMax Scaling\n",
    "from sklearn.preprocessing import MinMaxScaler\n",
    "scaler = MinMaxScaler()\n",
    "X = scaler.fit_transform(X)\n",
    "X"
   ]
  },
  {
   "cell_type": "code",
   "execution_count": 13,
   "metadata": {
    "tags": []
   },
   "outputs": [],
   "source": [
    "#Dividing the dataset into training and testing\n",
    "#Taking training to be 80% and testing to be 20%\n",
    "\n",
    "from sklearn.model_selection import train_test_split\n",
    "\n",
    "X_train, X_test, y_train, y_test = train_test_split(X, y, test_size=0.2)"
   ]
  },
  {
   "cell_type": "code",
   "execution_count": 14,
   "metadata": {
    "tags": []
   },
   "outputs": [
    {
     "data": {
      "text/plain": [
       "array([[1.        , 1.        , 1.        , ..., 0.83333333, 0.8       ,\n",
       "        0.85714286],\n",
       "       [0.        , 0.        , 1.        , ..., 0.33333333, 1.        ,\n",
       "        1.        ],\n",
       "       [1.        , 1.        , 1.        , ..., 0.66666667, 0.6       ,\n",
       "        0.14285714],\n",
       "       ...,\n",
       "       [1.        , 1.        , 1.        , ..., 0.66666667, 1.        ,\n",
       "        0.71428571],\n",
       "       [1.        , 1.        , 1.        , ..., 0.75      , 0.2       ,\n",
       "        0.14285714],\n",
       "       [1.        , 1.        , 1.        , ..., 0.41666667, 1.        ,\n",
       "        0.28571429]])"
      ]
     },
     "execution_count": 14,
     "metadata": {},
     "output_type": "execute_result"
    }
   ],
   "source": [
    "X_train"
   ]
  },
  {
   "cell_type": "code",
   "execution_count": 15,
   "metadata": {
    "tags": []
   },
   "outputs": [
    {
     "data": {
      "text/plain": [
       "array([[1.        , 0.        , 1.        , ..., 0.33333333, 1.        ,\n",
       "        1.        ],\n",
       "       [1.        , 0.        , 1.        , ..., 0.66666667, 0.8       ,\n",
       "        0.42857143],\n",
       "       [0.        , 0.        , 1.        , ..., 0.5       , 0.8       ,\n",
       "        0.85714286],\n",
       "       ...,\n",
       "       [0.        , 1.        , 1.        , ..., 0.75      , 0.6       ,\n",
       "        0.14285714],\n",
       "       [0.        , 0.        , 1.        , ..., 0.16666667, 1.        ,\n",
       "        1.        ],\n",
       "       [0.        , 0.        , 1.        , ..., 0.25      , 0.6       ,\n",
       "        1.        ]])"
      ]
     },
     "execution_count": 15,
     "metadata": {},
     "output_type": "execute_result"
    }
   ],
   "source": [
    "X_test"
   ]
  },
  {
   "cell_type": "code",
   "execution_count": 16,
   "metadata": {
    "tags": []
   },
   "outputs": [
    {
     "data": {
      "text/plain": [
       "array([1., 0., 1., ..., 1., 1., 1.])"
      ]
     },
     "execution_count": 16,
     "metadata": {},
     "output_type": "execute_result"
    }
   ],
   "source": [
    "y_train"
   ]
  },
  {
   "cell_type": "code",
   "execution_count": 17,
   "metadata": {
    "tags": []
   },
   "outputs": [
    {
     "data": {
      "text/plain": [
       "array([0., 0., 0., ..., 0., 0., 0.])"
      ]
     },
     "execution_count": 17,
     "metadata": {},
     "output_type": "execute_result"
    }
   ],
   "source": [
    "y_test"
   ]
  },
  {
   "cell_type": "code",
   "execution_count": 18,
   "metadata": {
    "tags": []
   },
   "outputs": [
    {
     "data": {
      "text/plain": [
       "((56553, 21), (14139, 21))"
      ]
     },
     "execution_count": 18,
     "metadata": {},
     "output_type": "execute_result"
    }
   ],
   "source": [
    "X_train.shape, X_test.shape"
   ]
  },
  {
   "cell_type": "code",
   "execution_count": 19,
   "metadata": {
    "tags": []
   },
   "outputs": [
    {
     "data": {
      "text/plain": [
       "((56553,), (14139,))"
      ]
     },
     "execution_count": 19,
     "metadata": {},
     "output_type": "execute_result"
    }
   ],
   "source": [
    "y_train.shape, y_test.shape"
   ]
  },
  {
   "cell_type": "code",
   "execution_count": 20,
   "metadata": {
    "tags": []
   },
   "outputs": [],
   "source": [
    "from sklearn.tree import DecisionTreeClassifier\n",
    "from sklearn.metrics import f1_score, confusion_matrix, accuracy_score, precision_recall_fscore_support, classification_report\n",
    "from sklearn import tree\n",
    "import matplotlib.pyplot as plt\n",
    "import numpy as np"
   ]
  },
  {
   "cell_type": "code",
   "execution_count": 21,
   "metadata": {
    "tags": []
   },
   "outputs": [],
   "source": [
    "clf = DecisionTreeClassifier(max_depth = 15)\n",
    "clf.fit(X_train,y_train)\n",
    "y_predict = clf.predict(X_test)"
   ]
  },
  {
   "cell_type": "code",
   "execution_count": 22,
   "metadata": {
    "tags": []
   },
   "outputs": [
    {
     "data": {
      "text/plain": [
       "0.7037980055166561"
      ]
     },
     "execution_count": 22,
     "metadata": {},
     "output_type": "execute_result"
    }
   ],
   "source": [
    "clf.score(X_test, y_test)"
   ]
  },
  {
   "cell_type": "code",
   "execution_count": 23,
   "metadata": {
    "tags": []
   },
   "outputs": [
    {
     "data": {
      "text/plain": [
       "0.846391880183191"
      ]
     },
     "execution_count": 23,
     "metadata": {},
     "output_type": "execute_result"
    }
   ],
   "source": [
    "clf.score(X_train, y_train)"
   ]
  },
  {
   "cell_type": "code",
   "execution_count": 24,
   "metadata": {
    "tags": []
   },
   "outputs": [
    {
     "name": "stdout",
     "output_type": "stream",
     "text": [
      "              precision    recall  f1-score   support\n",
      "\n",
      "         0.0       0.71      0.68      0.70      7031\n",
      "         1.0       0.70      0.72      0.71      7108\n",
      "\n",
      "    accuracy                           0.70     14139\n",
      "   macro avg       0.70      0.70      0.70     14139\n",
      "weighted avg       0.70      0.70      0.70     14139\n",
      "\n"
     ]
    }
   ],
   "source": [
    "from sklearn.metrics import classification_report\n",
    "\n",
    "print(classification_report(y_test, y_predict))"
   ]
  },
  {
   "cell_type": "code",
   "execution_count": 28,
   "metadata": {
    "tags": []
   },
   "outputs": [
    {
     "data": {
      "text/plain": [
       "{'fit_time': array([0.87373257, 0.59893727, 0.47658801, 0.49101877, 0.4905262 ,\n",
       "        0.42250538, 0.46344137, 0.78872132, 0.50615692, 1.01443315]),\n",
       " 'score_time': array([0.03137064, 0.03312612, 0.0099988 , 0.03649759, 0.03361273,\n",
       "        0.03175306, 0.0235343 , 0.02606511, 0.02918005, 0.03338957]),\n",
       " 'test_accuracy': array([0.65049505, 0.65374823, 0.65766021, 0.6542651 , 0.65865045,\n",
       "        0.65666997, 0.6626114 , 0.6614797 , 0.66063092, 0.66671382]),\n",
       " 'train_accuracy': array([0.99460878, 0.99457735, 0.99434167, 0.99470317, 0.99446741,\n",
       "        0.99460887, 0.99435739, 0.99445169, 0.99449884, 0.99432595]),\n",
       " 'test_f1': array([0.64694956, 0.64807361, 0.65379113, 0.65135521, 0.65592471,\n",
       "        0.65064056, 0.66020801, 0.66128804, 0.65625448, 0.66410037]),\n",
       " 'train_f1': array([0.99458247, 0.99455088, 0.99431351, 0.99467842, 0.99444006,\n",
       "        0.99458384, 0.99432904, 0.99442417, 0.99447182, 0.99429745]),\n",
       " 'test_recall': array([0.64045262, 0.63762376, 0.64657612, 0.64601019, 0.6508206 ,\n",
       "        0.63950198, 0.65544554, 0.66082037, 0.64780764, 0.65884017]),\n",
       " 'train_recall': array([0.98975197, 0.98972054, 0.98937508, 0.99003521, 0.98953225,\n",
       "        0.98997234, 0.98937474, 0.98953192, 0.98962623, 0.98934331]),\n",
       " 'test_precision': array([0.65357968, 0.65887167, 0.66116898, 0.65678941, 0.66110951,\n",
       "        0.66217404, 0.66504018, 0.66175637, 0.66492451, 0.66944524]),\n",
       " 'train_precision': array([0.99946035, 0.99942861, 0.9993015 , 0.99936538, 0.99939679,\n",
       "        0.99923851, 0.99933321, 0.99936504, 0.9993651 , 0.99930145]),\n",
       " 'test_roc_auc': array([0.65111288, 0.65444188, 0.65767901, 0.65451116, 0.65865286,\n",
       "        0.65641147, 0.66188995, 0.66129416, 0.66043286, 0.66616757]),\n",
       " 'train_roc_auc': array([0.99993939, 0.99993934, 0.99993326, 0.99994142, 0.9999367 ,\n",
       "        0.99993951, 0.99993416, 0.99993604, 0.99993713, 0.99993312])}"
      ]
     },
     "execution_count": 28,
     "metadata": {},
     "output_type": "execute_result"
    }
   ],
   "source": [
    "from sklearn.model_selection import cross_validate\n",
    "\n",
    "results = cross_validate(clf, X, y, cv=10, return_train_score =  True, scoring=('accuracy','f1','recall','precision','roc_auc'))\n",
    "results\n"
   ]
  },
  {
   "cell_type": "code",
   "execution_count": 29,
   "metadata": {
    "tags": []
   },
   "outputs": [
    {
     "name": "stdout",
     "output_type": "stream",
     "text": [
      "Optimal Parameter Value: 77\n"
     ]
    },
    {
     "data": {
      "image/png": "[encoded data removed]",
      "text/plain": [
       "<Figure size 1000x600 with 1 Axes>"
      ]
     },
     "metadata": {},
     "output_type": "display_data"
    }
   ],
   "source": [
    "Train_acc = []\n",
    "Test_acc = []\n",
    "Node_count = []\n",
    "parameter_value = []\n",
    "\n",
    "min_samples_split_range = np.arange(2, 1001, 5)\n",
    "\n",
    "for i in min_samples_split_range:\n",
    "    temp_train_acc = []\n",
    "    temp_test_acc = []\n",
    "    temp_node_count = []\n",
    "    \n",
    "  \n",
    "    for _ in range(10):\n",
    "         \n",
    "        clf = DecisionTreeClassifier(min_samples_split=i)\n",
    "        clf.fit(X_train, y_train)\n",
    "        \n",
    "      \n",
    "        temp_train_acc.append(clf.score(X_train, y_train))\n",
    "        temp_test_acc.append(clf.score(X_test, y_test))\n",
    "        temp_node_count.append(clf.tree_.node_count)\n",
    "    \n",
    "    \n",
    "    Train_acc.append(np.mean(temp_train_acc))\n",
    "    Test_acc.append(np.mean(temp_test_acc))\n",
    "    Node_count.append(np.mean(temp_node_count))\n",
    "    parameter_value.append(i)\n",
    "\n",
    "optimal_index = None\n",
    "for i in range(1, len(Node_count)):\n",
    "    if Test_acc[i] < Test_acc[i-1]:\n",
    "        optimal_index = i-1\n",
    "        break\n",
    "\n",
    "# Getting the parameter value at the found index\n",
    "optimal_parameter_value = parameter_value[optimal_index]\n",
    "\n",
    "print(\"Optimal Parameter Value:\", optimal_parameter_value)\n",
    "\n",
    "# Plotting\n",
    "plt.figure(figsize=(10, 6))\n",
    "plt.plot(Node_count, Train_acc, label='Training Accuracy')\n",
    "plt.plot(Node_count, Test_acc, label='Testing Accuracy')\n",
    "plt.xlabel('Number of Nodes')\n",
    "plt.ylabel('Accuracy')\n",
    "plt.title('Min_Samples_Split')\n",
    "plt.legend()\n",
    "plt.show()\n"
   ]
  },
  {
   "cell_type": "code",
   "execution_count": 30,
   "metadata": {
    "tags": []
   },
   "outputs": [
    {
     "name": "stdout",
     "output_type": "stream",
     "text": [
      "Optimal Parameter Value: 7\n"
     ]
    },
    {
     "data": {
      "image/png": "[encoded data removed]",
      "text/plain": [
       "<Figure size 1000x600 with 1 Axes>"
      ]
     },
     "metadata": {},
     "output_type": "display_data"
    }
   ],
   "source": [
    "Train_acc = []\n",
    "Test_acc = []\n",
    "Node_count = []\n",
    "parameter_value = []\n",
    "\n",
    "max_depth_range = np.arange(2, 1001, 5)\n",
    "\n",
    "for i in max_depth_range:\n",
    "    temp_train_acc = []\n",
    "    temp_test_acc = []\n",
    "    temp_node_count = []\n",
    "  \n",
    "    for _ in range(10):\n",
    "         \n",
    "        clf = DecisionTreeClassifier(max_depth=i)\n",
    "        clf.fit(X_train, y_train)\n",
    "        \n",
    "       \n",
    "        temp_train_acc.append(clf.score(X_train, y_train))\n",
    "        temp_test_acc.append(clf.score(X_test, y_test))\n",
    "        temp_node_count.append(clf.tree_.node_count)\n",
    "    \n",
    "   \n",
    "    Train_acc.append(np.mean(temp_train_acc))\n",
    "    Test_acc.append(np.mean(temp_test_acc))\n",
    "    Node_count.append(np.mean(temp_node_count))\n",
    "    parameter_value.append(i)\n",
    "\n",
    "optimal_index = None\n",
    "for i in range(1, len(Node_count)):\n",
    "    if Test_acc[i] < Test_acc[i-1]:\n",
    "        optimal_index = i-1\n",
    "        break\n",
    "\n",
    "# Getting the parameter value at the found index\n",
    "optimal_parameter_value = parameter_value[optimal_index]\n",
    "\n",
    "print(\"Optimal Parameter Value:\", optimal_parameter_value)\n",
    "\n",
    "# Plotting\n",
    "plt.figure(figsize=(10, 6))\n",
    "plt.plot(Node_count, Train_acc, label='Training Accuracy')\n",
    "plt.plot(Node_count, Test_acc, label='Testing Accuracy')\n",
    "plt.xlabel('Number of Nodes')\n",
    "plt.ylabel('Accuracy')\n",
    "plt.title('Max_Depth')\n",
    "plt.legend()\n",
    "plt.show()\n"
   ]
  },
  {
   "cell_type": "code",
   "execution_count": 31,
   "metadata": {
    "tags": []
   },
   "outputs": [
    {
     "name": "stdout",
     "output_type": "stream",
     "text": [
      "Optimal Parameter Value: 42\n"
     ]
    },
    {
     "data": {
      "image/png": "[encoded data removed]",
      "text/plain": [
       "<Figure size 1000x600 with 1 Axes>"
      ]
     },
     "metadata": {},
     "output_type": "display_data"
    }
   ],
   "source": [
    "Train_acc = []\n",
    "Test_acc = []\n",
    "Node_count = []\n",
    "parameter_value = []\n",
    "\n",
    "min_samples_leaf_range = np.arange(2, 1001, 5)\n",
    "\n",
    "for i in min_samples_leaf_range:\n",
    "    temp_train_acc = []\n",
    "    temp_test_acc = []\n",
    "    temp_node_count = []\n",
    "\n",
    "    for _ in range(10):\n",
    "         \n",
    "        clf = DecisionTreeClassifier(min_samples_leaf=i)\n",
    "        clf.fit(X_train, y_train)\n",
    "\n",
    "        temp_train_acc.append(clf.score(X_train, y_train))\n",
    "        temp_test_acc.append(clf.score(X_test, y_test))\n",
    "        temp_node_count.append(clf.tree_.node_count)\n",
    "    \n",
    "\n",
    "    Train_acc.append(np.mean(temp_train_acc))\n",
    "    Test_acc.append(np.mean(temp_test_acc))\n",
    "    Node_count.append(np.mean(temp_node_count))\n",
    "    parameter_value.append(i)\n",
    "\n",
    "optimal_index = None\n",
    "for i in range(1, len(Node_count)):\n",
    "    if Test_acc[i] < Test_acc[i-1]:\n",
    "        optimal_index = i-1\n",
    "        break\n",
    "\n",
    "# Getting the parameter value at the found index\n",
    "optimal_parameter_value = parameter_value[optimal_index]\n",
    "\n",
    "print(\"Optimal Parameter Value:\", optimal_parameter_value)\n",
    "\n",
    "\n",
    "# Plotting\n",
    "plt.figure(figsize=(10, 6))\n",
    "plt.plot(Node_count, Train_acc, label='Training Accuracy')\n",
    "plt.plot(Node_count, Test_acc, label='Testing Accuracy')\n",
    "plt.xlabel('Number of Nodes')\n",
    "plt.ylabel('Accuracy')\n",
    "plt.title('Min_Samples_Leaf')\n",
    "plt.legend()\n",
    "plt.show()\n",
    "\n"
   ]
  },
  {
   "cell_type": "code",
   "execution_count": 33,
   "metadata": {
    "tags": []
   },
   "outputs": [
    {
     "name": "stdout",
     "output_type": "stream",
     "text": [
      "Optimal Parameter Value: 42\n"
     ]
    },
    {
     "data": {
      "image/png": "[encoded data removed]",
      "text/plain": [
       "<Figure size 1000x600 with 1 Axes>"
      ]
     },
     "metadata": {},
     "output_type": "display_data"
    }
   ],
   "source": [
    "Train_acc = []\n",
    "Test_acc = []\n",
    "Node_count = []\n",
    "parameter_value = []\n",
    "\n",
    "max_leaf_nodes_range = np.arange(2, 1001, 5)\n",
    "\n",
    "for i in max_leaf_nodes_range:\n",
    "    temp_train_acc = []\n",
    "    temp_test_acc = []\n",
    "    temp_node_count = []\n",
    "\n",
    "    for _ in range(10):\n",
    "         \n",
    "        clf = DecisionTreeClassifier(max_leaf_nodes=i)\n",
    "        clf.fit(X_train, y_train)\n",
    "\n",
    "        temp_train_acc.append(clf.score(X_train, y_train))\n",
    "        temp_test_acc.append(clf.score(X_test, y_test))\n",
    "        temp_node_count.append(clf.tree_.node_count)\n",
    "\n",
    "    Train_acc.append(np.mean(temp_train_acc))\n",
    "    Test_acc.append(np.mean(temp_test_acc))\n",
    "    Node_count.append(np.mean(temp_node_count))\n",
    "    parameter_value.append(i)\n",
    "\n",
    "optimal_index = None\n",
    "for i in range(1, len(Node_count)):\n",
    "    if Test_acc[i] < Test_acc[i-1]:\n",
    "        optimal_index = i-1\n",
    "        break\n",
    "\n",
    "# Getting the parameter value at the found index\n",
    "optimal_parameter_value = parameter_value[optimal_index]\n",
    "\n",
    "print(\"Optimal Parameter Value:\", optimal_parameter_value)\n",
    "\n",
    "# Plotting\n",
    "plt.figure(figsize=(10, 6))\n",
    "plt.plot(Node_count, Train_acc, label='Training Accuracy')\n",
    "plt.plot(Node_count, Test_acc, label='Testing Accuracy')\n",
    "plt.xlabel('Number of Nodes')\n",
    "plt.ylabel('Accuracy')\n",
    "plt.title('Max_Leaf_Nodes')\n",
    "plt.legend()\n",
    "plt.show()\n"
   ]
  },
  {
   "cell_type": "code",
   "execution_count": 34,
   "metadata": {
    "tags": []
   },
   "outputs": [
    {
     "name": "stdout",
     "output_type": "stream",
     "text": [
      "No optimal parameter value found.\n"
     ]
    },
    {
     "data": {
      "image/png": "[encoded data removed]",
      "text/plain": [
       "<Figure size 1000x600 with 1 Axes>"
      ]
     },
     "metadata": {},
     "output_type": "display_data"
    }
   ],
   "source": [
    "Train_acc = []\n",
    "Test_acc = []\n",
    "Node_count = []\n",
    "parameter_value = []\n",
    "\n",
    "ccp_alpha_range = np.arange(1, 2, 0.001)\n",
    "\n",
    "for i in ccp_alpha_range:\n",
    "    temp_train_acc = []\n",
    "    temp_test_acc = []\n",
    "    temp_node_count = []\n",
    "\n",
    "    for _ in range(5):\n",
    "         \n",
    "        clf = DecisionTreeClassifier(ccp_alpha=i)\n",
    "        clf.fit(X_train, y_train)\n",
    "\n",
    "        temp_train_acc.append(clf.score(X_train, y_train))\n",
    "        temp_test_acc.append(clf.score(X_test, y_test))\n",
    "        temp_node_count.append(clf.tree_.node_count)\n",
    "\n",
    "    Train_acc.append(np.mean(temp_train_acc))\n",
    "    Test_acc.append(np.mean(temp_test_acc))\n",
    "    Node_count.append(np.mean(temp_node_count))\n",
    "    parameter_value.append(i)\n",
    "\n",
    "optimal_index = None\n",
    "for i in range(1, len(Node_count)):\n",
    "    if Test_acc[i] < Test_acc[i-1]:\n",
    "        optimal_index = i-1\n",
    "        break\n",
    "\n",
    "if optimal_index is not None:\n",
    "    optimal_parameter_value = parameter_value[optimal_index]\n",
    "    print(\"Optimal Parameter Value:\", optimal_parameter_value)\n",
    "else:\n",
    "    print(\"No optimal parameter value found.\")\n",
    "\n",
    "# Plotting\n",
    "plt.figure(figsize=(10, 6))\n",
    "plt.plot(Node_count, Train_acc, label='Training Accuracy')\n",
    "plt.plot(Node_count, Test_acc, label='Testing Accuracy')\n",
    "plt.xlabel('Number of Nodes')\n",
    "plt.ylabel('Accuracy')\n",
    "plt.title('CCP_Alpha')\n",
    "plt.legend()\n",
    "plt.show()\n"
   ]
  },
  {
   "cell_type": "code",
   "execution_count": 35,
   "metadata": {
    "tags": []
   },
   "outputs": [
    {
     "name": "stdout",
     "output_type": "stream",
     "text": [
      "Optimal Parameter Value: 7\n"
     ]
    },
    {
     "data": {
      "image/png": "[encoded data removed]",
      "text/plain": [
       "<Figure size 1000x600 with 1 Axes>"
      ]
     },
     "metadata": {},
     "output_type": "display_data"
    }
   ],
   "source": [
    "Train_acc = []\n",
    "Test_acc = []\n",
    "Node_count = []\n",
    "parameter_value = []\n",
    "\n",
    "max_features_range = np.arange(2, 1001, 5)\n",
    "\n",
    "for i in max_features_range:\n",
    "    temp_train_acc = []\n",
    "    temp_test_acc = []\n",
    "    temp_node_count = []\n",
    "\n",
    "    for _ in range(10):\n",
    "         \n",
    "        clf = DecisionTreeClassifier(max_features=i)\n",
    "        clf.fit(X_train, y_train)\n",
    "\n",
    "        temp_train_acc.append(clf.score(X_train, y_train))\n",
    "        temp_test_acc.append(clf.score(X_test, y_test))\n",
    "        temp_node_count.append(clf.tree_.node_count)\n",
    "\n",
    "    Train_acc.append(np.mean(temp_train_acc))\n",
    "    Test_acc.append(np.mean(temp_test_acc))\n",
    "    Node_count.append(np.mean(temp_node_count))\n",
    "    parameter_value.append(i)\n",
    "\n",
    "optimal_index = None\n",
    "for i in range(1, len(Node_count)):\n",
    "    if Test_acc[i] < Test_acc[i-1]:\n",
    "        optimal_index = i-1\n",
    "        break\n",
    "\n",
    "# Getting the parameter value at the found index\n",
    "optimal_parameter_value = parameter_value[optimal_index]\n",
    "\n",
    "print(\"Optimal Parameter Value:\", optimal_parameter_value)\n",
    "\n",
    "# Plotting\n",
    "plt.figure(figsize=(10, 6))\n",
    "plt.plot(Node_count, Train_acc, label='Training Accuracy')\n",
    "plt.plot(Node_count, Test_acc, label='Testing Accuracy')\n",
    "plt.xlabel('Number of Nodes')\n",
    "plt.ylabel('Accuracy')\n",
    "plt.title('Max_Features')\n",
    "plt.legend()\n",
    "plt.show()\n"
   ]
  },
  {
   "cell_type": "code",
   "execution_count": null,
   "metadata": {},
   "outputs": [],
   "source": []
  }
 ],
 "metadata": {
  "kernelspec": {
   "display_name": "Python 3 (ipykernel)",
   "language": "python",
   "name": "python3"
  },
  "language_info": {
   "codemirror_mode": {
    "name": "ipython",
    "version": 3
   },
   "file_extension": ".py",
   "mimetype": "text/x-python",
   "name": "python",
   "nbconvert_exporter": "python",
   "pygments_lexer": "ipython3",
   "version": "3.11.5"
  }
 },
 "nbformat": 4,
 "nbformat_minor": 4
}
