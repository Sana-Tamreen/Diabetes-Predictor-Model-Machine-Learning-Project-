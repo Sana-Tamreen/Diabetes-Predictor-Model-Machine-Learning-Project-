{
 "cells": [
  {
   "cell_type": "code",
   "execution_count": 1,
   "id": "75c56d32-0f30-49f9-9083-0e8abb67474b",
   "metadata": {
    "tags": []
   },
   "outputs": [],
   "source": [
    "import pandas as pd\n",
    "df = pd.read_csv(\"Diabetes.csv\")"
   ]
  },
  {
   "cell_type": "code",
   "execution_count": 2,
   "id": "89a58f15-7628-4a4b-a16b-7df5698b2f65",
   "metadata": {
    "tags": []
   },
   "outputs": [
    {
     "data": {
      "text/plain": [
       "array([0., 0., 0., ..., 1., 1., 1.])"
      ]
     },
     "execution_count": 2,
     "metadata": {},
     "output_type": "execute_result"
    }
   ],
   "source": [
    "y=df['Diabetes_binary'].to_numpy()\n",
    "x = df.drop(columns=['Diabetes_binary']).to_numpy()\n",
    "\n",
    "x\n",
    "y\n"
   ]
  },
  {
   "cell_type": "code",
   "execution_count": 3,
   "id": "e96ec5b8-faf4-4a3c-a18d-72ef19d42640",
   "metadata": {
    "tags": []
   },
   "outputs": [
    {
     "data": {
      "text/plain": [
       "(70692, 21)"
      ]
     },
     "execution_count": 3,
     "metadata": {},
     "output_type": "execute_result"
    }
   ],
   "source": [
    "x.shape"
   ]
  },
  {
   "cell_type": "code",
   "execution_count": 4,
   "id": "ea5fc49e-aff4-4a70-b023-878c651345e9",
   "metadata": {
    "tags": []
   },
   "outputs": [],
   "source": [
    "from sklearn.model_selection import train_test_split\n",
    "x_train,x_test,y_train,y_test = train_test_split(x,y,test_size=0.2)\n"
   ]
  },
  {
   "cell_type": "code",
   "execution_count": 5,
   "id": "d7f5d607-432d-4044-807f-8cc1ba0e6a3d",
   "metadata": {
    "tags": []
   },
   "outputs": [
    {
     "name": "stdout",
     "output_type": "stream",
     "text": [
      "(56553, 21) (14139, 21) (56553,) (14139,)\n"
     ]
    }
   ],
   "source": [
    "print(x_train.shape,x_test.shape,y_train.shape,y_test.shape)"
   ]
  },
  {
   "cell_type": "code",
   "execution_count": 6,
   "id": "3b8837c8-da00-4eaa-ac36-52ea1199f4f9",
   "metadata": {
    "tags": []
   },
   "outputs": [],
   "source": [
    "from sklearn.ensemble import RandomForestClassifier"
   ]
  },
  {
   "cell_type": "code",
   "execution_count": 8,
   "id": "d8c6fd0e-4cf3-41f8-bdab-011071e5eeca",
   "metadata": {
    "tags": []
   },
   "outputs": [
    {
     "name": "stdout",
     "output_type": "stream",
     "text": [
      "testing accuracy:  0.7368272155032181\n",
      "training accuracy:  0.9945891464643786\n"
     ]
    }
   ],
   "source": [
    "from sklearn.metrics import f1_score, confusion_matrix, accuracy_score, precision_recall_fscore_support, classification_report\n",
    "from sklearn import tree\n",
    "\n",
    "clf = RandomForestClassifier(n_estimators = 100,random_state = 42)\n",
    "clf.fit(x_train,y_train)\n",
    "\n",
    "y_test_pred = clf.predict(x_test)\n",
    "print('testing accuracy: ',accuracy_score(y_test_pred,y_test))\n",
    "\n",
    "y_train_pred = clf.predict(x_train)\n",
    "print('training accuracy: ',accuracy_score(y_train_pred,y_train))"
   ]
  },
  {
   "cell_type": "code",
   "execution_count": 10,
   "id": "d883293d-a2c0-494b-997e-1fb3d34bbcce",
   "metadata": {
    "tags": []
   },
   "outputs": [
    {
     "name": "stderr",
     "output_type": "stream",
     "text": [
      "\n",
      "KeyboardInterrupt\n",
      "\n"
     ]
    }
   ],
   "source": [
    "import numpy as np\n",
    "\n",
    "Train_acc = []\n",
    "Test_acc = []\n",
    "Node_count = []\n",
    "parameter_value = []\n",
    "\n",
    "min_samples_split_range = np.arange(2, 1001, 5)\n",
    "\n",
    "max_testing_acc = 0;\n",
    "\n",
    "for i in min_samples_split_range:\n",
    "    temp_train_acc = []\n",
    "    temp_test_acc = []\n",
    "    temp_node_count = []\n",
    "    \n",
    "    for _ in range(10):\n",
    "        clf = RandomForestClassifier(min_samples_split=i, random_state=42, n_jobs=-1)\n",
    "        clf.fit(x_train, y_train)\n",
    "        \n",
    "        temp_train_acc.append(clf.score(x_train, y_train))\n",
    "        temp_test_acc.append(clf.score(x_test, y_test))\n",
    "        \n",
    "        # Average number of nodes in trees of the forest\n",
    "        total_nodes = sum(tree.tree_.node_count for tree in clf.estimators_)\n",
    "        avg_nodes = total_nodes / len(clf.estimators_)\n",
    "        temp_node_count.append(avg_nodes)\n",
    "    \n",
    "    Train_acc.append(np.mean(temp_train_acc))\n",
    "    Test_acc.append(np.mean(temp_test_acc))\n",
    "    Node_count.append(np.mean(temp_node_count))\n",
    "    parameter_value.append(i)\n",
    "\n",
    "optimal_index = None\n",
    "for i in range(1, len(Test_acc)):\n",
    "    if Test_acc[i] < Test_acc[i-1]:\n",
    "        optimal_index = i-1\n",
    "        max_testing_acc = Test_acc[i-1]\n",
    "        break\n",
    "\n",
    "# Getting the parameter value at the found index\n",
    "optimal_parameter_value = parameter_value[optimal_index]\n",
    "\n",
    "print(\"Optimal Parameter Value:\", optimal_parameter_value)\n",
    "print(\"Optimal Parameter Accuracy:\", max_testing_acc)\n",
    "\n",
    "\n",
    "# Plotting\n",
    "plt.figure(figsize=(10, 6))\n",
    "plt.plot(parameter_value, Train_acc, label='Training Accuracy')\n",
    "plt.plot(parameter_value, Test_acc, label='Testing Accuracy')\n",
    "plt.xlabel('Min Samples Split')\n",
    "plt.ylabel('Accuracy')\n",
    "plt.title('Effect of min_samples_split on RandomForestClassifier')\n",
    "plt.legend()\n",
    "plt.show()"
   ]
  },
  {
   "cell_type": "code",
   "execution_count": null,
   "id": "f703a430-36c2-4e6c-8f5e-7b670a175d11",
   "metadata": {
    "tags": []
   },
   "outputs": [],
   "source": [
    "\n",
    "\n",
    "max_testing_acc = 0;\n",
    "\n",
    "Train_acc = []\n",
    "Test_acc = []\n",
    "Node_count = []\n",
    "parameter_value = []\n",
    "\n",
    "max_depth_range = np.arange(2, 1001, 5)\n",
    "\n",
    "for i in max_depth_range:\n",
    "    temp_train_acc = []\n",
    "    temp_test_acc = []\n",
    "    temp_node_count = []\n",
    "  \n",
    "    for _ in range(10):\n",
    "        clf = RandomForestClassifier(max_depth=i, random_state=42, n_jobs=-1)\n",
    "        clf.fit(x_train, y_train)\n",
    "        \n",
    "        temp_train_acc.append(clf.score(x_train, y_train))\n",
    "        temp_test_acc.append(clf.score(x_test, y_test))\n",
    "        \n",
    "        # Average number of nodes in trees of the forest\n",
    "        total_nodes = sum(tree.tree_.node_count for tree in clf.estimators_)\n",
    "        avg_nodes = total_nodes / len(clf.estimators_)\n",
    "        temp_node_count.append(avg_nodes)\n",
    "    \n",
    "    Train_acc.append(np.mean(temp_train_acc))\n",
    "    Test_acc.append(np.mean(temp_test_acc))\n",
    "    Node_count.append(np.mean(temp_node_count))\n",
    "    parameter_value.append(i)\n",
    "\n",
    "optimal_index = None\n",
    "for i in range(1, len(Test_acc)):\n",
    "    if Test_acc[i] < Test_acc[i-1]:\n",
    "        optimal_index = i-1\n",
    "        max_testing_acc= Test_acc[i-1]\n",
    "        break\n",
    "\n",
    "# Getting the parameter value at the found index\n",
    "optimal_parameter_value = parameter_value[optimal_index]\n",
    "\n",
    "print(\"Optimal Parameter Value:\", optimal_parameter_value)\n",
    "print(\"Optimal Parameter Testing Accuracy:\", max_testing_acc)\n",
    "\n",
    "# Plotting\n",
    "plt.figure(figsize=(10, 6))\n",
    "plt.plot(parameter_value, Train_acc, label='Training Accuracy')\n",
    "plt.plot(parameter_value, Test_acc, label='Testing Accuracy')\n",
    "plt.xlabel('Max Depth')\n",
    "plt.ylabel('Accuracy')\n",
    "plt.title('Effect of max_depth on RandomForestClassifier')\n",
    "plt.legend()\n",
    "plt.show()\n"
   ]
  },
  {
   "cell_type": "code",
   "execution_count": null,
   "id": "11899729-ffda-4828-b525-5b090ab755c3",
   "metadata": {},
   "outputs": [],
   "source": [
    "Train_acc = []\n",
    "Test_acc = []\n",
    "Node_count = []\n",
    "parameter_value = []\n",
    "\n",
    "max_testing_acc= 0;\n",
    "min_samples_leaf_range = np.arange(2, 1001, 5)\n",
    "\n",
    "for i in min_samples_leaf_range:\n",
    "    temp_train_acc = []\n",
    "    temp_test_acc = []\n",
    "    temp_node_count = []\n",
    "\n",
    "    for _ in range(10):\n",
    "         \n",
    "        clf = RandomForestClassifier(min_samples_leaf=i)\n",
    "        clf.fit(X_train, y_train)\n",
    "\n",
    "        temp_train_acc.append(clf.score(x_train, y_train))\n",
    "        temp_test_acc.append(clf.score(x_test, y_test))    \n",
    "\n",
    "    Train_acc.append(np.mean(temp_train_acc))\n",
    "    Test_acc.append(np.mean(temp_test_acc))\n",
    "    Node_count.append(np.mean(temp_node_count))\n",
    "    parameter_value.append(i)\n",
    "\n",
    "optimal_index = None\n",
    "for i in range(1, len(Node_count)):\n",
    "    if Test_acc[i] < Test_acc[i-1]:\n",
    "        optimal_index = i-1\n",
    "        max_testing_acc = 0;\n",
    "        break\n",
    "\n",
    "# Getting the parameter value at the found index\n",
    "optimal_parameter_value = parameter_value[optimal_index]\n",
    "\n",
    "print(\"Optimal Parameter Value:\", optimal_parameter_value)\n",
    "print(\"Optimal Parameter Testing Accuracy: \",max_testing_acc)\n",
    "\n",
    "\n",
    "# Plotting\n",
    "plt.figure(figsize=(10, 6))\n",
    "plt.plot(Node_count, Train_acc, label='Training Accuracy')\n",
    "plt.plot(Node_count, Test_acc, label='Testing Accuracy')\n",
    "plt.xlabel('Number of Nodes')\n",
    "plt.ylabel('Accuracy')\n",
    "plt.title('Min_Samples_Leaf')\n",
    "plt.legend()\n",
    "plt.show()\n",
    "\n"
   ]
  }
 ],
 "metadata": {
  "kernelspec": {
   "display_name": "Python 3 (ipykernel)",
   "language": "python",
   "name": "python3"
  },
  "language_info": {
   "codemirror_mode": {
    "name": "ipython",
    "version": 3
   },
   "file_extension": ".py",
   "mimetype": "text/x-python",
   "name": "python",
   "nbconvert_exporter": "python",
   "pygments_lexer": "ipython3",
   "version": "3.11.5"
  }
 },
 "nbformat": 4,
 "nbformat_minor": 5
}
